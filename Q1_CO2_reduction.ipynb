{
 "cells": [
  {
   "cell_type": "code",
   "execution_count": 1,
   "metadata": {},
   "outputs": [],
   "source": [
    "import datetime\n",
    "from pathlib import Path\n",
    "import numpy as np\n",
    "import pandas as pd\n",
    "import os\n",
    "import math\n",
    "from haversine import haversine\n",
    "\n",
    "from utils import *"
   ]
  },
  {
   "cell_type": "markdown",
   "metadata": {},
   "source": [
    "## Q1"
   ]
  },
  {
   "cell_type": "markdown",
   "metadata": {},
   "source": [
    "### Cab class"
   ]
  },
  {
   "cell_type": "code",
   "execution_count": 2,
   "metadata": {},
   "outputs": [],
   "source": [
    "class Cab:\n",
    "    def __init__(self,datas):\n",
    "        self.datas_np = np.asarray(datas)\n",
    "        # print(self.datas_np.shape)\n",
    "        self.free_time_index = self.free_time_search()\n",
    "        self.free_dis = self.free_time_distance(self.free_time_index)\n",
    "        \n",
    "    def free_time_search(self):\n",
    "        free_time_index= np.argwhere(self.datas_np[:,2]==0)\n",
    "        return free_time_index\n",
    "    \n",
    "    def free_time_distance(self,free_time_index):\n",
    "        x = self.datas_np[free_time_index,0]\n",
    "        y = self.datas_np[free_time_index,1]\n",
    "        dis_sum = 0\n",
    "        for i in range(len(free_time_index)-1):\n",
    "            # dis_tmp = math.sqrt( (x[i]-x[i+1])**2 + (y[i]-y[i+1])**2)\n",
    "            if free_time_index[i+1] - free_time_index[i] >1:\n",
    "                continue\n",
    "            p1 = (x[i], y[i])\n",
    "            p2 = (x[i+1], y[i+1])\n",
    "            dis_tmp = haversine(p1, p2) * 0.621371 # calculate the distance between two points given their latitude and longitude coordinates\n",
    "                                                # 0.632472 for convert km to miles\n",
    "            dis_sum = dis_sum+dis_tmp\n",
    "        return dis_sum"
   ]
  },
  {
   "cell_type": "markdown",
   "metadata": {},
   "source": [
    "### Read data, preprocess and change to San Francisco time"
   ]
  },
  {
   "cell_type": "code",
   "execution_count": 5,
   "metadata": {
    "tags": []
   },
   "outputs": [
    {
     "name": "stdout",
     "output_type": "stream",
     "text": [
      "537\n"
     ]
    }
   ],
   "source": [
    "path = Path('./cabspottingdata/')\n",
    "files = os.listdir(path)\n",
    "files = [x for x in files if x.endswith('.txt')]\n",
    "\n",
    "df_list = []\n",
    "cabs_list = []\n",
    "# read dataset, sorted by local time\n",
    "for file in files:\n",
    "    temp_df = pd.read_csv(path / file, sep=' ', names=['latitude', 'longitude', 'occupancy', 'time'])\n",
    "    temp_df['taxi_name'] = file.replace('.txt', '')\n",
    "    temp_df['local_time'] = temp_df['time'].apply(target_tz, tz_name='US/Pacific')\n",
    "    temp_df['local_time'] = temp_df['local_time'].apply(lambda x: x.strftime('%Y-%m-%d %H:%M:%S'))\n",
    "#     temp_df.sort_values(by=[ 'local_time'], inplace=True, ascending=True)\n",
    "    \n",
    "    temp_df.dropna(inplace=True)\n",
    "    temp_df.sort_values(by=['taxi_name', 'local_time'], inplace=True, ascending=True)\n",
    "    \n",
    "    ################\n",
    "    # temp_df = temp_df.iloc[0:1000] # for making small data samples\n",
    "    df_list.append(temp_df)\n",
    "    cabs_list.append(Cab(temp_df))\n",
    "print(len(cabs_list))"
   ]
  },
  {
   "cell_type": "markdown",
   "metadata": {},
   "source": [
    "### get the free time distance of all the cabs"
   ]
  },
  {
   "cell_type": "code",
   "execution_count": 29,
   "metadata": {},
   "outputs": [],
   "source": [
    "cabs_free_dis = np.zeros(len(cabs_list))\n",
    "for i in range(len(cabs_list)):\n",
    "    cabs_free_dis[i] = cabs_list[i].free_dis\n",
    "# sorted by distance, return the index \n",
    "cabs_sorted_by_dis = sorted(range(len(cabs_free_dis)), key=lambda k: cabs_free_dis[k], reverse=True)\n",
    "\n",
    "\n",
    "# calculate the number of cabs are replaced by electric cars\n",
    "num_cabs = len(cabs_list)\n",
    "num_cabs_replace = 0 \n",
    "sum_cabs_CO2 = 0 \n",
    "\n",
    "# Replace the remaining 15% of cars with electric cars every month\n",
    "for i in range(12):\n",
    "    num_cabs_replace = num_cabs_replace + int(num_cabs * 0.15)\n",
    "    num_cabs = num_cabs - int(num_cabs * 0.15)\n",
    "    sum_cabs_CO2 = sum_cabs_CO2 + np.sum(cabs_free_dis[cabs_sorted_by_dis[0:num_cabs_replace]])*404"
   ]
  },
  {
   "cell_type": "markdown",
   "metadata": {},
   "source": [
    "### final result"
   ]
  },
  {
   "cell_type": "code",
   "execution_count": 29,
   "metadata": {},
   "outputs": [
    {
     "name": "stdout",
     "output_type": "stream",
     "text": [
      "potential: 4311476496.574932  grams\n"
     ]
    }
   ],
   "source": [
    "print('potential:',sum_cabs_CO2,' grams')"
   ]
  },
  {
   "cell_type": "code",
   "execution_count": null,
   "metadata": {},
   "outputs": [],
   "source": []
  },
  {
   "cell_type": "code",
   "execution_count": null,
   "metadata": {},
   "outputs": [],
   "source": []
  },
  {
   "cell_type": "code",
   "execution_count": null,
   "metadata": {},
   "outputs": [],
   "source": []
  },
  {
   "cell_type": "code",
   "execution_count": null,
   "metadata": {},
   "outputs": [],
   "source": []
  },
  {
   "cell_type": "markdown",
   "metadata": {},
   "source": [
    "## for question 2 data save"
   ]
  },
  {
   "cell_type": "code",
   "execution_count": 40,
   "metadata": {},
   "outputs": [
    {
     "name": "stdout",
     "output_type": "stream",
     "text": [
      "(11220058, 6)\n"
     ]
    }
   ],
   "source": [
    "df = pd.concat(df_list)\n",
    "df.reset_index(drop=True, inplace=True)\n",
    "df.to_pickle('full_data.pkl')\n",
    "df.shape"
   ]
  },
  {
   "cell_type": "code",
   "execution_count": null,
   "metadata": {},
   "outputs": [],
   "source": []
  }
 ],
 "metadata": {
  "kernelspec": {
   "display_name": "Python 3",
   "language": "python",
   "name": "python3"
  },
  "language_info": {
   "codemirror_mode": {
    "name": "ipython",
    "version": 3
   },
   "file_extension": ".py",
   "mimetype": "text/x-python",
   "name": "python",
   "nbconvert_exporter": "python",
   "pygments_lexer": "ipython3",
   "version": "3.8.8"
  },
  "toc-autonumbering": true,
  "vscode": {
   "interpreter": {
    "hash": "16a8e7ce1f0373af2404a7c728680d4f135fc69ac4d8547e10700ab2daa2f8a1"
   }
  }
 },
 "nbformat": 4,
 "nbformat_minor": 4
}
