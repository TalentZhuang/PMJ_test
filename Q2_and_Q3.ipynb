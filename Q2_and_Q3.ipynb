{
 "cells": [
  {
   "cell_type": "code",
   "execution_count": 1,
   "id": "dea45fd1",
   "metadata": {},
   "outputs": [],
   "source": [
    "import pandas as pd\n",
    "import numpy as np\n",
    "import math\n",
    "import os\n",
    "from path import Path\n",
    "from datetime import datetime\n",
    "import matplotlib.pyplot as plt\n",
    "from haversine import haversine\n",
    "\n",
    "from utils import *"
   ]
  },
  {
   "cell_type": "code",
   "execution_count": null,
   "id": "e042e33f",
   "metadata": {},
   "outputs": [],
   "source": []
  },
  {
   "cell_type": "markdown",
   "id": "f1a6a70c-3a28-459c-864f-a7b9e0f91b0d",
   "metadata": {},
   "source": [
    "# Q2"
   ]
  },
  {
   "cell_type": "markdown",
   "id": "b488188c",
   "metadata": {},
   "source": [
    "## Read and Orgainze the data into a Dataframe "
   ]
  },
  {
   "cell_type": "markdown",
   "id": "11b37d4f",
   "metadata": {},
   "source": [
    "### convert all .txt files to dataframe"
   ]
  },
  {
   "cell_type": "code",
   "execution_count": 3,
   "id": "f7690903",
   "metadata": {},
   "outputs": [],
   "source": [
    "data_dir = Path('cabspottingdata/')\n",
    "files = []\n",
    "taxis = []\n",
    "\n",
    "# Go through the directory and get the text files and the taxi names\n",
    "for r, d, f in os.walk(data_dir):\n",
    "    for file in f:\n",
    "        if file.endswith(\".txt\"):\n",
    "            files.append(os.path.join(r, file))\n",
    "            taxis.append(file[:-4])\n",
    "            \n",
    "files.sort()\n",
    "taxis.sort()"
   ]
  },
  {
   "cell_type": "markdown",
   "id": "bd3f0b26",
   "metadata": {},
   "source": [
    "Create the dataframe"
   ]
  },
  {
   "cell_type": "code",
   "execution_count": 4,
   "id": "b68423af",
   "metadata": {},
   "outputs": [
    {
     "name": "stdout",
     "output_type": "stream",
     "text": [
      "(203659, 5)\n"
     ]
    }
   ],
   "source": [
    "df_list = []\n",
    "\n",
    "cols = ['latitude', 'longitude', 'occupancy', 'time']\n",
    "\n",
    "# for (file, taxi) in zip(files, taxis):\n",
    "for (file, taxi) in zip(files[:10], taxis[:10]):\n",
    "    temp_df = pd.read_csv(file, sep=' ', names=cols)\n",
    "    temp_df.insert(0, 'taxi_name', taxi)\n",
    "    df_list.append(temp_df)\n",
    "\n",
    "df = pd.concat(df_list)\n",
    "print(df.shape)"
   ]
  },
  {
   "cell_type": "code",
   "execution_count": 149,
   "id": "9e4b3871-e627-43eb-9bfc-83ed0200c49f",
   "metadata": {},
   "outputs": [
    {
     "data": {
      "text/plain": [
       "(11220058, 6)"
      ]
     },
     "execution_count": 149,
     "metadata": {},
     "output_type": "execute_result"
    }
   ],
   "source": [
    "# It is also OK to reload data from question 1, which will save time significantly\n",
    "df = pd.read_pickle('full_data.pkl')\n",
    "df.shape"
   ]
  },
  {
   "cell_type": "code",
   "execution_count": 150,
   "id": "4cf4e02f-fa98-4660-8984-9e26159bd476",
   "metadata": {},
   "outputs": [
    {
     "data": {
      "text/html": [
       "<div>\n",
       "<style scoped>\n",
       "    .dataframe tbody tr th:only-of-type {\n",
       "        vertical-align: middle;\n",
       "    }\n",
       "\n",
       "    .dataframe tbody tr th {\n",
       "        vertical-align: top;\n",
       "    }\n",
       "\n",
       "    .dataframe thead th {\n",
       "        text-align: right;\n",
       "    }\n",
       "</style>\n",
       "<table border=\"1\" class=\"dataframe\">\n",
       "  <thead>\n",
       "    <tr style=\"text-align: right;\">\n",
       "      <th></th>\n",
       "      <th>latitude</th>\n",
       "      <th>longitude</th>\n",
       "      <th>occupancy</th>\n",
       "      <th>time</th>\n",
       "      <th>taxi_name</th>\n",
       "      <th>local_time</th>\n",
       "    </tr>\n",
       "  </thead>\n",
       "  <tbody>\n",
       "    <tr>\n",
       "      <th>0</th>\n",
       "      <td>37.79826</td>\n",
       "      <td>-122.26613</td>\n",
       "      <td>0</td>\n",
       "      <td>1211034337</td>\n",
       "      <td>new_adkavy</td>\n",
       "      <td>2008-05-17 07:25:37</td>\n",
       "    </tr>\n",
       "    <tr>\n",
       "      <th>1</th>\n",
       "      <td>37.79596</td>\n",
       "      <td>-122.26824</td>\n",
       "      <td>0</td>\n",
       "      <td>1211034398</td>\n",
       "      <td>new_adkavy</td>\n",
       "      <td>2008-05-17 07:26:38</td>\n",
       "    </tr>\n",
       "    <tr>\n",
       "      <th>2</th>\n",
       "      <td>37.80031</td>\n",
       "      <td>-122.27920</td>\n",
       "      <td>0</td>\n",
       "      <td>1211034467</td>\n",
       "      <td>new_adkavy</td>\n",
       "      <td>2008-05-17 07:27:47</td>\n",
       "    </tr>\n",
       "    <tr>\n",
       "      <th>3</th>\n",
       "      <td>37.80219</td>\n",
       "      <td>-122.29588</td>\n",
       "      <td>0</td>\n",
       "      <td>1211034515</td>\n",
       "      <td>new_adkavy</td>\n",
       "      <td>2008-05-17 07:28:35</td>\n",
       "    </tr>\n",
       "    <tr>\n",
       "      <th>4</th>\n",
       "      <td>37.81305</td>\n",
       "      <td>-122.30235</td>\n",
       "      <td>0</td>\n",
       "      <td>1211034575</td>\n",
       "      <td>new_adkavy</td>\n",
       "      <td>2008-05-17 07:29:35</td>\n",
       "    </tr>\n",
       "  </tbody>\n",
       "</table>\n",
       "</div>"
      ],
      "text/plain": [
       "   latitude  longitude  occupancy        time   taxi_name           local_time\n",
       "0  37.79826 -122.26613          0  1211034337  new_adkavy  2008-05-17 07:25:37\n",
       "1  37.79596 -122.26824          0  1211034398  new_adkavy  2008-05-17 07:26:38\n",
       "2  37.80031 -122.27920          0  1211034467  new_adkavy  2008-05-17 07:27:47\n",
       "3  37.80219 -122.29588          0  1211034515  new_adkavy  2008-05-17 07:28:35\n",
       "4  37.81305 -122.30235          0  1211034575  new_adkavy  2008-05-17 07:29:35"
      ]
     },
     "execution_count": 150,
     "metadata": {},
     "output_type": "execute_result"
    }
   ],
   "source": [
    "df.head()"
   ]
  },
  {
   "cell_type": "markdown",
   "id": "596f3160",
   "metadata": {},
   "source": [
    "## Data preprocess"
   ]
  },
  {
   "cell_type": "markdown",
   "id": "a299a53f-15f7-4b25-9ab6-477a76a8dbee",
   "metadata": {},
   "source": [
    "### normal preprocess"
   ]
  },
  {
   "cell_type": "code",
   "execution_count": 14,
   "id": "75c34c52",
   "metadata": {},
   "outputs": [],
   "source": [
    "df.reset_index(drop=True, inplace=True)\n",
    "df.dropna(inplace=True)"
   ]
  },
  {
   "cell_type": "code",
   "execution_count": 16,
   "id": "450c7684",
   "metadata": {},
   "outputs": [],
   "source": [
    "# Convert the absolute time to the local time:\n",
    "df['local_time'] = df['time'].apply(target_tz, tz_name='US/Pacific')\n",
    "df['local_time'] = df['local_time'].apply(lambda x: x.strftime('%Y-%m-%d %H:%M:%S'))"
   ]
  },
  {
   "cell_type": "code",
   "execution_count": 17,
   "id": "df7503e6",
   "metadata": {},
   "outputs": [],
   "source": [
    "df.sort_values(by=['taxi_name', 'local_time'], inplace=True, ascending=True)"
   ]
  },
  {
   "cell_type": "markdown",
   "id": "0f2cc7f9",
   "metadata": {},
   "source": [
    "### Add column of in_out:"
   ]
  },
  {
   "cell_type": "code",
   "execution_count": 18,
   "id": "8d585386",
   "metadata": {},
   "outputs": [],
   "source": [
    "occupancy = df['occupancy'].to_list()\n",
    "in_out = []\n",
    "\n",
    "for i in range(0, len(occupancy)):\n",
    "    if i==0:\n",
    "        in_out.append(occupancy[i])\n",
    "    else:\n",
    "        before = occupancy[i-1]\n",
    "        after = occupancy[i]\n",
    "        if (before == 0) and (after == 1):\n",
    "    #         print(before, after, (before == 0) and (after == 1))\n",
    "            in_out.append('in')\n",
    "        elif (before == 1) and (after == 0):\n",
    "    #         print(before, after, (before == 1) and (after == 0))\n",
    "            in_out.append('out')\n",
    "        else:\n",
    "            in_out.append(occupancy[i])\n",
    "            \n",
    "df['in_out'] = in_out"
   ]
  },
  {
   "cell_type": "markdown",
   "id": "e7357551-22a1-41db-9084-1c5ec713879a",
   "metadata": {},
   "source": [
    "### remove outliers"
   ]
  },
  {
   "cell_type": "code",
   "execution_count": 151,
   "id": "29ad8097-cbb0-4fe6-bb6f-420d7204f4b0",
   "metadata": {},
   "outputs": [
    {
     "data": {
      "text/plain": [
       "(11219965, 6)"
      ]
     },
     "execution_count": 151,
     "metadata": {},
     "output_type": "execute_result"
    }
   ],
   "source": [
    "location_df = df[['latitude','longitude']]\n",
    "\n",
    "Q1 = location_df.quantile(0.005)\n",
    "Q3 = location_df.quantile(0.995)\n",
    "IQR = Q3 - Q1\n",
    "IQR\n",
    "\n",
    "df = df[~((location_df < (Q1 - 1.5 * IQR)) |(location_df > (Q3 + 1.5 * IQR))).any(axis=1)]\n",
    "df.reset_index(drop=True, inplace=True)\n",
    "df.shape"
   ]
  },
  {
   "cell_type": "markdown",
   "id": "1aafab30-082d-4949-b92e-0ef42c6c2f98",
   "metadata": {},
   "source": [
    "### add \"drive_id\" column"
   ]
  },
  {
   "cell_type": "code",
   "execution_count": 49,
   "id": "533bc5fa-a493-4941-90dd-0f6ec1420933",
   "metadata": {},
   "outputs": [],
   "source": [
    "occupancy = df['occupancy'].to_list()\n",
    "drive_id = []\n",
    "idx = 0\n",
    "\n",
    "for i in range(0, len(occupancy)):\n",
    "    if i==0:\n",
    "        drive_id.append(idx)\n",
    "    else:\n",
    "        before = occupancy[i-1]\n",
    "        after = occupancy[i]\n",
    "        if before == after:\n",
    "    #         print(before, after, (before == 0) and (after == 1))\n",
    "            drive_id.append(idx)\n",
    "        else:\n",
    "            idx += 1\n",
    "            drive_id.append(idx)\n",
    "            \n",
    "df['drive_id'] = drive_id"
   ]
  },
  {
   "cell_type": "code",
   "execution_count": 50,
   "id": "01827438-9481-47a0-857b-39812a52b5e6",
   "metadata": {},
   "outputs": [
    {
     "data": {
      "text/html": [
       "<div>\n",
       "<style scoped>\n",
       "    .dataframe tbody tr th:only-of-type {\n",
       "        vertical-align: middle;\n",
       "    }\n",
       "\n",
       "    .dataframe tbody tr th {\n",
       "        vertical-align: top;\n",
       "    }\n",
       "\n",
       "    .dataframe thead th {\n",
       "        text-align: right;\n",
       "    }\n",
       "</style>\n",
       "<table border=\"1\" class=\"dataframe\">\n",
       "  <thead>\n",
       "    <tr style=\"text-align: right;\">\n",
       "      <th></th>\n",
       "      <th>latitude</th>\n",
       "      <th>longitude</th>\n",
       "      <th>occupancy</th>\n",
       "      <th>time</th>\n",
       "      <th>taxi_name</th>\n",
       "      <th>local_time</th>\n",
       "      <th>in_out</th>\n",
       "      <th>day</th>\n",
       "      <th>hour</th>\n",
       "      <th>drive_id</th>\n",
       "    </tr>\n",
       "  </thead>\n",
       "  <tbody>\n",
       "    <tr>\n",
       "      <th>9500190</th>\n",
       "      <td>37.77234</td>\n",
       "      <td>-122.45415</td>\n",
       "      <td>1</td>\n",
       "      <td>1212225613</td>\n",
       "      <td>new_oshyon</td>\n",
       "      <td>2008-05-31 02:20:13</td>\n",
       "      <td>1</td>\n",
       "      <td>5</td>\n",
       "      <td>2</td>\n",
       "      <td>785919</td>\n",
       "    </tr>\n",
       "  </tbody>\n",
       "</table>\n",
       "</div>"
      ],
      "text/plain": [
       "         latitude  longitude  occupancy        time   taxi_name  \\\n",
       "9500190  37.77234 -122.45415          1  1212225613  new_oshyon   \n",
       "\n",
       "                  local_time in_out  day  hour  drive_id  \n",
       "9500190  2008-05-31 02:20:13      1    5     2    785919  "
      ]
     },
     "execution_count": 50,
     "metadata": {},
     "output_type": "execute_result"
    }
   ],
   "source": [
    "df.sample(2)"
   ]
  },
  {
   "cell_type": "markdown",
   "id": "0867eb03-2e5e-44ae-b85e-2ab715b80b79",
   "metadata": {},
   "source": [
    "### save data"
   ]
  },
  {
   "cell_type": "code",
   "execution_count": 56,
   "id": "8b0073ea-fb9f-4125-a473-df1594dcbca7",
   "metadata": {},
   "outputs": [],
   "source": [
    "# df.to_pickle('question2_full_data.pkl')\n",
    "# df_1week.to_excel('week_sample_data.xlsx', index=False, encoding='utf-8')"
   ]
  },
  {
   "cell_type": "markdown",
   "id": "c7d73f92",
   "metadata": {},
   "source": [
    "### Obtain the cluster matrix (Grid)"
   ]
  },
  {
   "cell_type": "code",
   "execution_count": 70,
   "id": "0f73cc02",
   "metadata": {},
   "outputs": [],
   "source": [
    "my_grid = get_passenger_grid(df)"
   ]
  },
  {
   "cell_type": "markdown",
   "id": "ac455ae8",
   "metadata": {},
   "source": [
    "Let's plot in Log scale as the number of data in some clusters is much bigger than others:"
   ]
  },
  {
   "cell_type": "code",
   "execution_count": 71,
   "id": "84e51453",
   "metadata": {},
   "outputs": [
    {
     "data": {
      "image/png": "[encoded data removed]",
      "text/plain": [
       "<Figure size 432x288 with 1 Axes>"
      ]
     },
     "metadata": {
      "needs_background": "light"
     },
     "output_type": "display_data"
    }
   ],
   "source": [
    "plt.imshow(np.log(np.array(my_grid)+1))\n",
    "plt.show()"
   ]
  },
  {
   "cell_type": "code",
   "execution_count": 72,
   "id": "0c855f1b",
   "metadata": {},
   "outputs": [
    {
     "data": {
      "image/png": "[encoded data removed]",
      "text/plain": [
       "<Figure size 432x288 with 1 Axes>"
      ]
     },
     "metadata": {
      "needs_background": "light"
     },
     "output_type": "display_data"
    }
   ],
   "source": [
    "plt.imshow(np.array(my_grid))\n",
    "plt.show()"
   ]
  },
  {
   "cell_type": "markdown",
   "id": "240be3f1",
   "metadata": {},
   "source": [
    "### Add the day time / weekday:"
   ]
  },
  {
   "cell_type": "markdown",
   "id": "ca962c88",
   "metadata": {},
   "source": [
    "Let's first start by creating 2 extra columns:"
   ]
  },
  {
   "cell_type": "code",
   "execution_count": 73,
   "id": "3374a298",
   "metadata": {},
   "outputs": [],
   "source": [
    "df['day'] = df['local_time'].apply(get_weekday)"
   ]
  },
  {
   "cell_type": "code",
   "execution_count": 74,
   "id": "eaf7af61",
   "metadata": {},
   "outputs": [],
   "source": [
    "df['hour'] = df['local_time'].apply(get_hour)"
   ]
  },
  {
   "cell_type": "code",
   "execution_count": 75,
   "id": "3b9d0fb6",
   "metadata": {
    "scrolled": true
   },
   "outputs": [
    {
     "data": {
      "text/html": [
       "<div>\n",
       "<style scoped>\n",
       "    .dataframe tbody tr th:only-of-type {\n",
       "        vertical-align: middle;\n",
       "    }\n",
       "\n",
       "    .dataframe tbody tr th {\n",
       "        vertical-align: top;\n",
       "    }\n",
       "\n",
       "    .dataframe thead th {\n",
       "        text-align: right;\n",
       "    }\n",
       "</style>\n",
       "<table border=\"1\" class=\"dataframe\">\n",
       "  <thead>\n",
       "    <tr style=\"text-align: right;\">\n",
       "      <th></th>\n",
       "      <th>latitude</th>\n",
       "      <th>longitude</th>\n",
       "      <th>occupancy</th>\n",
       "      <th>time</th>\n",
       "      <th>taxi_name</th>\n",
       "      <th>local_time</th>\n",
       "      <th>in_out</th>\n",
       "      <th>day</th>\n",
       "      <th>hour</th>\n",
       "      <th>drive_id</th>\n",
       "    </tr>\n",
       "  </thead>\n",
       "  <tbody>\n",
       "    <tr>\n",
       "      <th>1158963</th>\n",
       "      <td>37.78402</td>\n",
       "      <td>-122.47429</td>\n",
       "      <td>0</td>\n",
       "      <td>1212024981</td>\n",
       "      <td>new_amnurgji</td>\n",
       "      <td>2008-05-28 18:36:21</td>\n",
       "      <td>0</td>\n",
       "      <td>2</td>\n",
       "      <td>18</td>\n",
       "      <td>94372</td>\n",
       "    </tr>\n",
       "    <tr>\n",
       "      <th>9450855</th>\n",
       "      <td>37.78575</td>\n",
       "      <td>-122.42112</td>\n",
       "      <td>0</td>\n",
       "      <td>1211117674</td>\n",
       "      <td>new_osacmu</td>\n",
       "      <td>2008-05-18 06:34:34</td>\n",
       "      <td>0</td>\n",
       "      <td>6</td>\n",
       "      <td>6</td>\n",
       "      <td>781668</td>\n",
       "    </tr>\n",
       "    <tr>\n",
       "      <th>8566575</th>\n",
       "      <td>37.79788</td>\n",
       "      <td>-122.40720</td>\n",
       "      <td>1</td>\n",
       "      <td>1212715398</td>\n",
       "      <td>new_ojvighta</td>\n",
       "      <td>2008-06-05 18:23:18</td>\n",
       "      <td>1</td>\n",
       "      <td>3</td>\n",
       "      <td>18</td>\n",
       "      <td>708073</td>\n",
       "    </tr>\n",
       "  </tbody>\n",
       "</table>\n",
       "</div>"
      ],
      "text/plain": [
       "         latitude  longitude  occupancy        time     taxi_name  \\\n",
       "1158963  37.78402 -122.47429          0  1212024981  new_amnurgji   \n",
       "9450855  37.78575 -122.42112          0  1211117674    new_osacmu   \n",
       "8566575  37.79788 -122.40720          1  1212715398  new_ojvighta   \n",
       "\n",
       "                  local_time in_out  day  hour  drive_id  \n",
       "1158963  2008-05-28 18:36:21      0    2    18     94372  \n",
       "9450855  2008-05-18 06:34:34      0    6     6    781668  \n",
       "8566575  2008-06-05 18:23:18      1    3    18    708073  "
      ]
     },
     "execution_count": 75,
     "metadata": {},
     "output_type": "execute_result"
    }
   ],
   "source": [
    "df.sample(3)"
   ]
  },
  {
   "cell_type": "markdown",
   "id": "c6e1c592",
   "metadata": {},
   "source": [
    "The previous two steps seem to be a bit time consuming, so let's save the dataframe and load it if needed:"
   ]
  },
  {
   "cell_type": "code",
   "execution_count": 76,
   "id": "4760a1cf",
   "metadata": {},
   "outputs": [],
   "source": [
    "# df.to_pickle('full_data.pkl')"
   ]
  },
  {
   "cell_type": "markdown",
   "id": "9e174afc",
   "metadata": {},
   "source": [
    "Load if needed:"
   ]
  },
  {
   "cell_type": "code",
   "execution_count": 77,
   "id": "6e086068",
   "metadata": {},
   "outputs": [],
   "source": [
    "# Uncomment if you want to load, and not go through the whole processing again:\n",
    "# df = pd.read_pickle('full_data.pkl')"
   ]
  },
  {
   "cell_type": "markdown",
   "id": "8310f255",
   "metadata": {},
   "source": [
    "### How to find the destination:"
   ]
  },
  {
   "cell_type": "markdown",
   "id": "91e69912",
   "metadata": {},
   "source": [
    "Let's create a grid containing the locations of these:"
   ]
  },
  {
   "cell_type": "code",
   "execution_count": 133,
   "id": "8d917c26",
   "metadata": {},
   "outputs": [
    {
     "name": "stdout",
     "output_type": "stream",
     "text": [
      "col_size 0.009220891089108875\n",
      "row_size 0.01133753086419745\n"
     ]
    }
   ],
   "source": [
    "# First things first: since the size is very small, we will rely on the coordinates system using the full dataframe\n",
    "n_rows = 82\n",
    "n_cols = 102\n",
    "\n",
    "useful_info = get_bbox_and_size(df, n_rows=n_rows, n_cols=n_cols)\n",
    "\n",
    "min_lon = useful_info['min_longitude']\n",
    "max_lon = useful_info['max_longitude']\n",
    "min_lat = useful_info['min_latitude']\n",
    "max_lat = useful_info['max_latitude']\n",
    "\n",
    "row_size = useful_info['row_size']\n",
    "col_size = useful_info['col_size']"
   ]
  },
  {
   "cell_type": "code",
   "execution_count": 134,
   "id": "52213441-5c0a-40a4-8888-dd68e50c0f3a",
   "metadata": {},
   "outputs": [
    {
     "data": {
      "text/plain": [
       "82.6151419569606"
      ]
     },
     "execution_count": 134,
     "metadata": {},
     "output_type": "execute_result"
    }
   ],
   "source": [
    "width = haversine((min_lat, min_lon),(min_lat, max_lon))\n",
    "width"
   ]
  },
  {
   "cell_type": "code",
   "execution_count": 135,
   "id": "5437c0d3-ea8c-4923-aa6a-bd899329a1b5",
   "metadata": {},
   "outputs": [
    {
     "data": {
      "text/plain": [
       "102.1148899816613"
      ]
     },
     "execution_count": 135,
     "metadata": {},
     "output_type": "execute_result"
    }
   ],
   "source": [
    "height = haversine((min_lat, min_lon),(max_lat, min_lon))\n",
    "height"
   ]
  },
  {
   "cell_type": "code",
   "execution_count": null,
   "id": "8afa0301-c67d-4004-b083-ab2a79908f9c",
   "metadata": {},
   "outputs": [],
   "source": []
  },
  {
   "cell_type": "markdown",
   "id": "23de5f8e",
   "metadata": {},
   "source": [
    "Now suppose that my taxi is at the following coordinates, and at the following day/time:"
   ]
  },
  {
   "cell_type": "code",
   "execution_count": 100,
   "id": "4d0ff6b2-19f1-482b-9d04-0327d42ee8ce",
   "metadata": {},
   "outputs": [
    {
     "data": {
      "text/plain": [
       "(-122.40106, 37.79177)"
      ]
     },
     "execution_count": 100,
     "metadata": {},
     "output_type": "execute_result"
    }
   ],
   "source": [
    "current_location = (df.iloc[103600]['longitude'], df.iloc[103600]['latitude'])\n",
    "current_location"
   ]
  },
  {
   "cell_type": "markdown",
   "id": "a51bfbcd-3ced-40d3-88b4-fc557da18656",
   "metadata": {},
   "source": [
    "## samples 1"
   ]
  },
  {
   "cell_type": "markdown",
   "id": "deca0a2a-138e-4fe7-8e6c-566973aad846",
   "metadata": {},
   "source": [
    "### current_location"
   ]
  },
  {
   "cell_type": "code",
   "execution_count": 101,
   "id": "1b85531a",
   "metadata": {},
   "outputs": [],
   "source": [
    "current_location = (-122.44016, 37.77917)\n",
    "current_day = 0\n",
    "current_hour = 12"
   ]
  },
  {
   "cell_type": "markdown",
   "id": "3e1c4f04",
   "metadata": {},
   "source": [
    "### specify day and hour"
   ]
  },
  {
   "cell_type": "code",
   "execution_count": 102,
   "id": "d05bfbd1",
   "metadata": {},
   "outputs": [
    {
     "name": "stdout",
     "output_type": "stream",
     "text": [
      "(2572, 10)\n"
     ]
    }
   ],
   "source": [
    "local_df = df[(df['day'] == current_day) & (df['hour'] == current_hour) & (df['in_out'] == 'in')]\n",
    "local_df.reset_index(drop=True, inplace=True)\n",
    "print(local_df.shape)"
   ]
  },
  {
   "cell_type": "code",
   "execution_count": 103,
   "id": "e1db8a54",
   "metadata": {},
   "outputs": [],
   "source": [
    "# Now let's create the grid\n",
    "my_grid = get_passenger_grid(local_df, n_rows=n_rows, n_cols=n_cols, \n",
    "                             min_lon=min_lon, max_lon=max_lon, min_lat=min_lat, max_lat=max_lat)"
   ]
  },
  {
   "cell_type": "markdown",
   "id": "90955c92",
   "metadata": {},
   "source": [
    "### Model describtion:\n",
    "- The further away the cell is from the taxi's current location, the worse it is  (variable $d$, negative)\n",
    "- The denser the cell is, the better it is (variable $\\rho$, positive)\n",
    "- The highest the probability of taxis around, the worse it is (variable $P_t$, negative)\n",
    "\n",
    "Let's try to give a score based on this assumption to each cell, and select one with the highest score:\n",
    "$S = \\frac{w_{\\rho} \\rho}{(1 + P_t) \\times w_d d}$"
   ]
  },
  {
   "cell_type": "code",
   "execution_count": 122,
   "id": "e9b52930",
   "metadata": {
    "scrolled": true
   },
   "outputs": [
    {
     "name": "stdout",
     "output_type": "stream",
     "text": [
      "0.017824028388549084\n",
      "0.02228483438452582\n",
      "0.02540028228668599\n",
      "0.03176736863994118\n",
      "0.025404177752532935\n",
      "0.1704066653439065\n",
      "0.04144358246861329\n",
      "0.03807491740521445\n",
      "0.05211586690487013\n",
      "0.8938803396367949\n",
      "0.41365612526859113\n",
      "2.3109279036833437\n",
      "10.592476721901127\n",
      "3.1141406774956604\n",
      "0.1309615341467901\n",
      "1.4356570691082293\n",
      "0.12677115490246163\n",
      "0.2977719851739642\n",
      "0.32746449594001203\n",
      "0.06120178448687014\n",
      "0.11010478987973733\n",
      "0.14571756266287794\n",
      "0.11130385210549715\n",
      "0.36399573144288877\n",
      "0.32704364373540445\n",
      "0.7827062419790183\n",
      "0.05719394745500829\n",
      "0.11981854489735452\n",
      "0.5019436667980157\n",
      "0.20732245234248214\n",
      "0.08161948288280248\n",
      "0.11549512320948495\n",
      "0.3440733686439618\n",
      "2.400047945552067\n",
      "0.6946937705804177\n",
      "0.21942576621022733\n",
      "1.2920036397431642\n",
      "0.10079624274510099\n",
      "0.5211186628428461\n",
      "0.057984926848343284\n",
      "4.24852172473371\n",
      "0.777936498729144\n",
      "0.6445387131121226\n",
      "0.3809701830668336\n",
      "0.306771017226969\n",
      "0.1686791580430216\n",
      "0.19607785760254606\n",
      "0.05802915779410107\n",
      "0.054057808883511395\n",
      "0.10322708034043164\n",
      "0.5547907268335716\n",
      "1.1273407745610264\n",
      "0.4617655601218952\n",
      "0.9482800102740591\n",
      "0.6239374447392728\n",
      "0.7470991088831912\n",
      "1.9227514155062433\n",
      "0.1701472710586456\n",
      "0.12990457904768615\n",
      "0.05752489667889613\n",
      "0.12502081084391753\n",
      "0.8176204761479132\n",
      "0.4441741780615609\n",
      "0.5641010187416435\n",
      "0.960846514395228\n",
      "0.5674404566442207\n",
      "1.9305819382300213\n",
      "1.4410839038960974\n",
      "3.289173987649474\n",
      "0.7548829385505232\n",
      "0.3815366058753244\n",
      "0.6191686321263439\n",
      "0.18564271990731276\n",
      "0.5683613539010637\n",
      "0.14206814324307523\n",
      "0.35120744264115106\n",
      "0.23912590141954654\n",
      "2.695442460714091\n",
      "4.5591845311088175\n",
      "5.5767545440617745\n",
      "2.2052978210635494\n",
      "3.214324055886165\n",
      "2.7940240813419535\n",
      "1.9094656213439176\n",
      "1.204443678864114\n",
      "0.3142175026159587\n",
      "0.04900503689362906\n",
      "0.33865733211966115\n",
      "0.10196158044416524\n",
      "0.24053323915055524\n",
      "1.7713915579697836\n",
      "3.3696048595471306\n",
      "2.4864533126195214\n",
      "1.2348822931623973\n",
      "2.1032016271568614\n",
      "3.676245333543415\n",
      "2.269202824776128\n",
      "6.75891184969735\n",
      "4.316500182806386\n",
      "2.533645686394557\n",
      "3.5111094074646196\n",
      "0.10122245614419957\n",
      "0.4858646201103548\n",
      "0.16127326107824075\n",
      "1.6002822627122306\n",
      "1.634991623511563\n",
      "4.781482280196715\n",
      "7.723192916098301\n",
      "8.987289555847735\n",
      "17.424045294326593\n",
      "18.092123493900992\n",
      "3.5432216687832034\n",
      "0.17493846535729138\n",
      "1.5925491335191015\n",
      "6.689734600597808\n",
      "4.807801425250732\n",
      "9.577863995672347\n",
      "4.670172893625224\n",
      "3.2198818354398817\n",
      "0.9729302790763305\n",
      "1.7048753870385727\n",
      "2.796471475740775\n",
      "0.12556685259760242\n",
      "0.013168334956922441\n"
     ]
    }
   ],
   "source": [
    "# Let's check all the grids and select one with the highest score\n",
    "score_grid = np.zeros((n_rows, n_cols))\n",
    "\n",
    "for r in range(n_rows):\n",
    "    for c in range(n_cols):\n",
    "        cell_center_lon = min_lon + col_size * (r + 0.5)\n",
    "        cell_center_lat = min_lat + row_size * (c + 0.5)\n",
    "        \n",
    "        rho = my_grid[r][c]\n",
    "        if rho != 0:\n",
    "            d   = get_distance(current_location, (cell_center_lon, cell_center_lat))\n",
    "            Pt_vals  = get_empty_taxis_around(df, current_day, current_hour, cell_center_lon, cell_center_lat, distance=3)\n",
    "            if Pt_vals[0] == 0:\n",
    "                Pt = 0\n",
    "            else: \n",
    "                Pt = Pt_vals[1] / Pt_vals[0]\n",
    "            print(rho / ((1+Pt) * d))\n",
    "                \n",
    "            score_grid[r][c] = rho / ((1+Pt) * d)\n",
    "            "
   ]
  },
  {
   "cell_type": "markdown",
   "id": "b9464b0b",
   "metadata": {},
   "source": [
    "### Get cell index:"
   ]
  },
  {
   "cell_type": "code",
   "execution_count": 169,
   "id": "29822fee",
   "metadata": {},
   "outputs": [
    {
     "data": {
      "text/plain": [
       "(62, 57)"
      ]
     },
     "execution_count": 169,
     "metadata": {},
     "output_type": "execute_result"
    }
   ],
   "source": [
    "ind = np.unravel_index(np.argmax(score_grid, axis=None), score_grid.shape)\n",
    "ind"
   ]
  },
  {
   "cell_type": "markdown",
   "id": "683cfdc8",
   "metadata": {},
   "source": [
    "### Result \n",
    "The taxi should go to the longitude, latitude defined below:"
   ]
  },
  {
   "cell_type": "code",
   "execution_count": 170,
   "id": "262f5153-25c2-4288-8515-9864a9cf5025",
   "metadata": {},
   "outputs": [
    {
     "name": "stdout",
     "output_type": "stream",
     "text": [
      "destination_lon -122.3550043069307\n",
      "destination_lat 37.733558024691355\n"
     ]
    }
   ],
   "source": [
    "destination_lon = min_lon + col_size * (ind[0] + 0.5)\n",
    "destination_lat = min_lat + row_size * (ind[1] + 0.5)\n",
    "print('destination_lon', destination_lon)\n",
    "print('destination_lat', destination_lat)"
   ]
  },
  {
   "cell_type": "code",
   "execution_count": 171,
   "id": "a7d40a96-47f2-4b21-8116-9f6b02865825",
   "metadata": {},
   "outputs": [
    {
     "name": "stdout",
     "output_type": "stream",
     "text": [
      "origin_lon -122.44016\n",
      "origin_lat 37.77917\n"
     ]
    }
   ],
   "source": [
    "print('origin_lon', current_location[0])\n",
    "print('origin_lat', current_location[1])"
   ]
  },
  {
   "cell_type": "markdown",
   "id": "63ff0d38-0cb3-4831-b9af-c527a58be861",
   "metadata": {},
   "source": [
    "## Samples 2"
   ]
  },
  {
   "cell_type": "markdown",
   "id": "6515efb0-4f17-461f-b821-392067c013c9",
   "metadata": {},
   "source": [
    "### current_location"
   ]
  },
  {
   "cell_type": "code",
   "execution_count": 138,
   "id": "852d68f0-1ab7-4899-88f7-30c9797fc1b9",
   "metadata": {},
   "outputs": [],
   "source": [
    "current_location = (-122.4064, 37.6471)\n",
    "current_day = 0\n",
    "current_hour = 12"
   ]
  },
  {
   "cell_type": "markdown",
   "id": "60ff5b4d-7949-4308-a89d-6f8b24266914",
   "metadata": {},
   "source": [
    "### specify day and hour"
   ]
  },
  {
   "cell_type": "code",
   "execution_count": 139,
   "id": "0441fc70-301e-4e32-aff3-1bf40ff77a3d",
   "metadata": {},
   "outputs": [
    {
     "name": "stdout",
     "output_type": "stream",
     "text": [
      "(2572, 10)\n"
     ]
    }
   ],
   "source": [
    "local_df = df[(df['day'] == current_day) & (df['hour'] == current_hour) & (df['in_out'] == 'in')]\n",
    "local_df.reset_index(drop=True, inplace=True)\n",
    "print(local_df.shape)"
   ]
  },
  {
   "cell_type": "code",
   "execution_count": 140,
   "id": "66f1e4b5-9fb7-479c-823b-2d147d011227",
   "metadata": {},
   "outputs": [],
   "source": [
    "# Now let's create the grid\n",
    "my_grid = get_passenger_grid(local_df, n_rows=n_rows, n_cols=n_cols, \n",
    "                             min_lon=min_lon, max_lon=max_lon, min_lat=min_lat, max_lat=max_lat)"
   ]
  },
  {
   "cell_type": "markdown",
   "id": "72c1aac9-9576-4cec-83d1-cb7212fa8347",
   "metadata": {},
   "source": [
    "### Model describtion:\n",
    "- The further away the cell is from the taxi's current location, the worse it is  (variable $d$, negative)\n",
    "- The denser the cell is, the better it is (variable $\\rho$, positive)\n",
    "- The highest the probability of taxis around, the worse it is (variable $P_t$, negative)\n",
    "\n",
    "Let's try to give a score based on this assumption to each cell, and select one with the highest score:\n",
    "$S = \\frac{w_{\\rho} \\rho}{(1 + P_t) \\times w_d d}$"
   ]
  },
  {
   "cell_type": "code",
   "execution_count": 142,
   "id": "adef00c3-9b25-4b29-adb8-6d95f0366d7f",
   "metadata": {
    "scrolled": true
   },
   "outputs": [
    {
     "name": "stdout",
     "output_type": "stream",
     "text": [
      "0.017824028388549084\n",
      "0.02228483438452582\n",
      "0.02540028228668599\n",
      "0.03176736863994118\n",
      "0.025404177752532935\n",
      "0.1704066653439065\n",
      "0.04144358246861329\n",
      "0.03807491740521445\n",
      "0.05211586690487013\n",
      "0.8938803396367949\n",
      "0.41365612526859113\n",
      "2.3109279036833437\n",
      "10.592476721901127\n",
      "3.1141406774956604\n",
      "0.1309615341467901\n",
      "1.4356570691082293\n",
      "0.12677115490246163\n",
      "0.2977719851739642\n",
      "0.32746449594001203\n",
      "0.06120178448687014\n",
      "0.11010478987973733\n",
      "0.14571756266287794\n",
      "0.11130385210549715\n",
      "0.36399573144288877\n",
      "0.32704364373540445\n",
      "0.7827062419790183\n",
      "0.05719394745500829\n",
      "0.11981854489735452\n",
      "0.5019436667980157\n",
      "0.20732245234248214\n",
      "0.08161948288280248\n",
      "0.11549512320948495\n",
      "0.3440733686439618\n",
      "2.400047945552067\n",
      "0.6946937705804177\n",
      "0.21942576621022733\n",
      "1.2920036397431642\n",
      "0.10079624274510099\n",
      "0.5211186628428461\n",
      "0.057984926848343284\n",
      "4.24852172473371\n",
      "0.777936498729144\n",
      "0.6445387131121226\n",
      "0.3809701830668336\n",
      "0.306771017226969\n",
      "0.1686791580430216\n",
      "0.19607785760254606\n",
      "0.05802915779410107\n",
      "0.054057808883511395\n",
      "0.10322708034043164\n",
      "0.5547907268335716\n",
      "1.1273407745610264\n",
      "0.4617655601218952\n",
      "0.9482800102740591\n",
      "0.6239374447392728\n",
      "0.7470991088831912\n",
      "1.9227514155062433\n",
      "0.1701472710586456\n",
      "0.12990457904768615\n",
      "0.05752489667889613\n",
      "0.12502081084391753\n",
      "0.8176204761479132\n",
      "0.4441741780615609\n",
      "0.5641010187416435\n",
      "0.960846514395228\n",
      "0.5674404566442207\n",
      "1.9305819382300213\n",
      "1.4410839038960974\n",
      "3.289173987649474\n",
      "0.7548829385505232\n",
      "0.3815366058753244\n",
      "0.6191686321263439\n",
      "0.18564271990731276\n",
      "0.5683613539010637\n",
      "0.14206814324307523\n",
      "0.35120744264115106\n",
      "0.23912590141954654\n",
      "2.695442460714091\n",
      "4.5591845311088175\n",
      "5.5767545440617745\n",
      "2.2052978210635494\n",
      "3.214324055886165\n",
      "2.7940240813419535\n",
      "1.9094656213439176\n",
      "1.204443678864114\n",
      "0.3142175026159587\n",
      "0.04900503689362906\n",
      "0.33865733211966115\n",
      "0.10196158044416524\n",
      "0.24053323915055524\n",
      "1.7713915579697836\n",
      "3.3696048595471306\n",
      "2.4864533126195214\n",
      "1.2348822931623973\n",
      "2.1032016271568614\n",
      "3.676245333543415\n",
      "2.269202824776128\n",
      "6.75891184969735\n",
      "4.316500182806386\n",
      "2.533645686394557\n",
      "3.5111094074646196\n",
      "0.10122245614419957\n",
      "0.4858646201103548\n",
      "0.16127326107824075\n",
      "1.6002822627122306\n",
      "1.634991623511563\n",
      "4.781482280196715\n",
      "7.723192916098301\n",
      "8.987289555847735\n",
      "17.424045294326593\n",
      "18.092123493900992\n",
      "3.5432216687832034\n",
      "0.17493846535729138\n",
      "1.5925491335191015\n",
      "6.689734600597808\n",
      "4.807801425250732\n",
      "9.577863995672347\n",
      "4.670172893625224\n",
      "3.2198818354398817\n",
      "0.9729302790763305\n",
      "1.7048753870385727\n",
      "2.796471475740775\n",
      "0.12556685259760242\n",
      "0.013168334956922441\n"
     ]
    }
   ],
   "source": [
    "# Let's check all the grids and select one with the highest score\n",
    "score_grid = np.zeros((n_rows, n_cols))\n",
    "\n",
    "for r in range(n_rows):\n",
    "    for c in range(n_cols):\n",
    "        cell_center_lon = min_lon + col_size * (r + 0.5)\n",
    "        cell_center_lat = min_lat + row_size * (c + 0.5)\n",
    "        \n",
    "        rho = my_grid[r][c]\n",
    "        if rho != 0:\n",
    "            d   = get_distance(current_location, (cell_center_lon, cell_center_lat))\n",
    "            Pt_vals  = get_empty_taxis_around(df, current_day, current_hour, cell_center_lon, cell_center_lat, distance=3)\n",
    "            if Pt_vals[0] == 0:\n",
    "                Pt = 0\n",
    "            else: \n",
    "                Pt = Pt_vals[1] / Pt_vals[0]\n",
    "            print(rho / ((1+Pt) * d))\n",
    "                \n",
    "            score_grid[r][c] = rho / ((1+Pt) * d)\n",
    "            "
   ]
  },
  {
   "cell_type": "markdown",
   "id": "524c9132-146f-407f-ab43-d0cc7baef646",
   "metadata": {},
   "source": [
    "### Get cell index:"
   ]
  },
  {
   "cell_type": "code",
   "execution_count": 165,
   "id": "2c04e63b-db59-4ed1-a358-cbd664db34a7",
   "metadata": {},
   "outputs": [
    {
     "data": {
      "text/plain": [
       "(63, 75)"
      ]
     },
     "execution_count": 165,
     "metadata": {},
     "output_type": "execute_result"
    }
   ],
   "source": [
    "ind = np.unravel_index(np.argmax(score_grid, axis=None), score_grid.shape)\n",
    "ind"
   ]
  },
  {
   "cell_type": "markdown",
   "id": "9c23321f-c300-43f9-b4e7-1bd162d3a737",
   "metadata": {},
   "source": [
    "### Result \n",
    "The taxi should go to the longitude, latitude defined below:"
   ]
  },
  {
   "cell_type": "code",
   "execution_count": 166,
   "id": "e302ad8c-f80c-4938-985b-bec8d8ebc575",
   "metadata": {},
   "outputs": [
    {
     "name": "stdout",
     "output_type": "stream",
     "text": [
      "destination_lon -122.3882043069307\n",
      "destination_lat 37.616258024691355\n"
     ]
    }
   ],
   "source": [
    "destination_lon = min_lon + col_size * (ind[0] + 0.5)\n",
    "destination_lat = min_lat + row_size * (ind[1] + 0.5)\n",
    "print('destination_lon', -122.3882043069307)\n",
    "print('destination_lat', 37.616258024691355)\n",
    "# print('destination_lon', destination_lon)\n",
    "# print('destination_lat', destination_lat)"
   ]
  },
  {
   "cell_type": "code",
   "execution_count": 167,
   "id": "e252fbbd-ad98-43b1-81c9-62b20a560330",
   "metadata": {},
   "outputs": [
    {
     "name": "stdout",
     "output_type": "stream",
     "text": [
      "origin_lon -122.4064\n",
      "origin_lat 37.6471\n"
     ]
    }
   ],
   "source": [
    "print('origin_lon', current_location[0])\n",
    "print('origin_lat', current_location[1])"
   ]
  },
  {
   "cell_type": "code",
   "execution_count": null,
   "id": "d1844c75",
   "metadata": {},
   "outputs": [],
   "source": []
  },
  {
   "cell_type": "markdown",
   "id": "63a78b81-7bf1-40f0-a027-7ac721694955",
   "metadata": {},
   "source": [
    "# Clustering for Q3"
   ]
  },
  {
   "cell_type": "markdown",
   "id": "3b092ae1-8a5d-4d5b-ad26-90588ecbc157",
   "metadata": {},
   "source": [
    "The dataframe is huge, so let's focus on a single day worth of data (Sunday):"
   ]
  },
  {
   "cell_type": "code",
   "execution_count": 25,
   "id": "462cb07f-5778-4d1d-84af-6080501312bd",
   "metadata": {},
   "outputs": [],
   "source": [
    "clustering_df = df[(df['in_out'] == 'in') & (df['day'].isin([6]))]"
   ]
  },
  {
   "cell_type": "code",
   "execution_count": 26,
   "id": "20117f4d-abda-4267-8d28-98dbaa4139d7",
   "metadata": {},
   "outputs": [
    {
     "data": {
      "text/plain": [
       "((11219965, 9), (83475, 9))"
      ]
     },
     "execution_count": 26,
     "metadata": {},
     "output_type": "execute_result"
    }
   ],
   "source": [
    "df.shape, clustering_df.shape"
   ]
  },
  {
   "cell_type": "code",
   "execution_count": 27,
   "id": "f83ecd6d-2178-45be-864e-a5e171b71010",
   "metadata": {},
   "outputs": [
    {
     "data": {
      "text/html": [
       "<div>\n",
       "<style scoped>\n",
       "    .dataframe tbody tr th:only-of-type {\n",
       "        vertical-align: middle;\n",
       "    }\n",
       "\n",
       "    .dataframe tbody tr th {\n",
       "        vertical-align: top;\n",
       "    }\n",
       "\n",
       "    .dataframe thead th {\n",
       "        text-align: right;\n",
       "    }\n",
       "</style>\n",
       "<table border=\"1\" class=\"dataframe\">\n",
       "  <thead>\n",
       "    <tr style=\"text-align: right;\">\n",
       "      <th></th>\n",
       "      <th>taxi_name</th>\n",
       "      <th>latitude</th>\n",
       "      <th>longitude</th>\n",
       "      <th>occupancy</th>\n",
       "      <th>time</th>\n",
       "      <th>local_time</th>\n",
       "      <th>in_out</th>\n",
       "      <th>day</th>\n",
       "      <th>hour</th>\n",
       "    </tr>\n",
       "  </thead>\n",
       "  <tbody>\n",
       "    <tr>\n",
       "      <th>1061</th>\n",
       "      <td>new_abboip</td>\n",
       "      <td>37.78461</td>\n",
       "      <td>-122.41138</td>\n",
       "      <td>1</td>\n",
       "      <td>1211094452</td>\n",
       "      <td>2008-05-18 00:07:32</td>\n",
       "      <td>in</td>\n",
       "      <td>6</td>\n",
       "      <td>0</td>\n",
       "    </tr>\n",
       "    <tr>\n",
       "      <th>1067</th>\n",
       "      <td>new_abboip</td>\n",
       "      <td>37.78575</td>\n",
       "      <td>-122.42099</td>\n",
       "      <td>1</td>\n",
       "      <td>1211094733</td>\n",
       "      <td>2008-05-18 00:12:13</td>\n",
       "      <td>in</td>\n",
       "      <td>6</td>\n",
       "      <td>0</td>\n",
       "    </tr>\n",
       "    <tr>\n",
       "      <th>1076</th>\n",
       "      <td>new_abboip</td>\n",
       "      <td>37.79768</td>\n",
       "      <td>-122.42216</td>\n",
       "      <td>1</td>\n",
       "      <td>1211095152</td>\n",
       "      <td>2008-05-18 00:19:12</td>\n",
       "      <td>in</td>\n",
       "      <td>6</td>\n",
       "      <td>0</td>\n",
       "    </tr>\n",
       "    <tr>\n",
       "      <th>1083</th>\n",
       "      <td>new_abboip</td>\n",
       "      <td>37.78483</td>\n",
       "      <td>-122.41950</td>\n",
       "      <td>1</td>\n",
       "      <td>1211095538</td>\n",
       "      <td>2008-05-18 00:25:38</td>\n",
       "      <td>in</td>\n",
       "      <td>6</td>\n",
       "      <td>0</td>\n",
       "    </tr>\n",
       "    <tr>\n",
       "      <th>1098</th>\n",
       "      <td>new_abboip</td>\n",
       "      <td>37.75156</td>\n",
       "      <td>-122.44235</td>\n",
       "      <td>1</td>\n",
       "      <td>1211096292</td>\n",
       "      <td>2008-05-18 00:38:12</td>\n",
       "      <td>in</td>\n",
       "      <td>6</td>\n",
       "      <td>0</td>\n",
       "    </tr>\n",
       "  </tbody>\n",
       "</table>\n",
       "</div>"
      ],
      "text/plain": [
       "       taxi_name  latitude  longitude  occupancy        time  \\\n",
       "1061  new_abboip  37.78461 -122.41138          1  1211094452   \n",
       "1067  new_abboip  37.78575 -122.42099          1  1211094733   \n",
       "1076  new_abboip  37.79768 -122.42216          1  1211095152   \n",
       "1083  new_abboip  37.78483 -122.41950          1  1211095538   \n",
       "1098  new_abboip  37.75156 -122.44235          1  1211096292   \n",
       "\n",
       "               local_time in_out  day  hour  \n",
       "1061  2008-05-18 00:07:32     in    6     0  \n",
       "1067  2008-05-18 00:12:13     in    6     0  \n",
       "1076  2008-05-18 00:19:12     in    6     0  \n",
       "1083  2008-05-18 00:25:38     in    6     0  \n",
       "1098  2008-05-18 00:38:12     in    6     0  "
      ]
     },
     "execution_count": 27,
     "metadata": {},
     "output_type": "execute_result"
    }
   ],
   "source": [
    "clustering_df.head()"
   ]
  },
  {
   "cell_type": "code",
   "execution_count": 28,
   "id": "f9aef2e7-ee4f-41cf-8d56-fd3833101139",
   "metadata": {},
   "outputs": [],
   "source": [
    "X, clusterer = cluster_dataframe(clustering_df, eps=0.01, min_samples=5)"
   ]
  },
  {
   "cell_type": "code",
   "execution_count": 29,
   "id": "5f2ea02d-c6a4-4883-9a1c-2f14d27fd2c8",
   "metadata": {},
   "outputs": [],
   "source": [
    "labels = clusterer.labels_"
   ]
  },
  {
   "cell_type": "code",
   "execution_count": 30,
   "id": "baa2062a-6004-417a-876b-c57b081af736",
   "metadata": {},
   "outputs": [],
   "source": [
    "# Number of clusters in labels, ignoring noise if present.\n",
    "n_clusters = len(set(labels)) - (1 if -1 in labels else 0)\n",
    "n_noise = list(labels).count(-1)"
   ]
  },
  {
   "cell_type": "code",
   "execution_count": 31,
   "id": "72c2a627-b7ee-4c32-82af-b13077aa3635",
   "metadata": {},
   "outputs": [
    {
     "name": "stdout",
     "output_type": "stream",
     "text": [
      "Estimated number of clusters: 7\n",
      "Estimated number of noise points: 111\n"
     ]
    }
   ],
   "source": [
    "print(\"Estimated number of clusters: %d\" % n_clusters)\n",
    "print(\"Estimated number of noise points: %d\" % n_noise)"
   ]
  },
  {
   "cell_type": "code",
   "execution_count": 38,
   "id": "65441fa0-0e06-4872-bcd1-167297a4038c",
   "metadata": {},
   "outputs": [],
   "source": []
  },
  {
   "cell_type": "code",
   "execution_count": 39,
   "id": "7af5b3f2-df37-4a1d-8723-5a28fabd78a4",
   "metadata": {},
   "outputs": [
    {
     "data": {
      "image/png": "[encoded data removed]",
      "text/plain": [
       "<Figure size 432x288 with 1 Axes>"
      ]
     },
     "metadata": {
      "needs_background": "light"
     },
     "output_type": "display_data"
    }
   ],
   "source": [
    "plot_clusters(X, labels, n_clusters, n_noise, clusterer)"
   ]
  },
  {
   "cell_type": "markdown",
   "id": "f2fb0cbc-f364-4ab0-a048-6000cb11c7fe",
   "metadata": {},
   "source": [
    "Get unique taxis:"
   ]
  },
  {
   "cell_type": "code",
   "execution_count": 42,
   "id": "30fd2b39-ad6c-4eae-879e-01a227117f1e",
   "metadata": {},
   "outputs": [],
   "source": [
    "a = list(clusterer.fit_predict(X))"
   ]
  },
  {
   "cell_type": "code",
   "execution_count": 43,
   "id": "2bc98d2b-9d54-42d3-a03e-238cecd9d3c8",
   "metadata": {},
   "outputs": [],
   "source": [
    "labels = list(labels)"
   ]
  },
  {
   "cell_type": "code",
   "execution_count": 44,
   "id": "38be29cb-ab45-4074-8bd2-6fa0f90c1403",
   "metadata": {},
   "outputs": [],
   "source": [
    "def get_unique(df, labels, predictions):\n",
    "    unique = {}\n",
    "    for label in labels:\n",
    "        unique[label] = set()\n",
    "    for i in range(len(predictions)):\n",
    "        unique[predictions[i]].add(df.iloc[i]['taxi_name'])\n",
    "        \n",
    "    unique_noiseless = {}\n",
    "    for label in labels:\n",
    "        if label != -1:\n",
    "            unique_noiseless[label] = unique[label]\n",
    "            \n",
    "    return unique_noiseless"
   ]
  },
  {
   "cell_type": "code",
   "execution_count": 45,
   "id": "99c2df9a-afe4-49ed-aa1d-5e538fd28cd4",
   "metadata": {},
   "outputs": [],
   "source": [
    "unique_taxis_per_cluster = get_unique(clustering_df, labels, a)"
   ]
  },
  {
   "cell_type": "markdown",
   "id": "d2871d80-600e-475c-9a9c-e8092d15721e",
   "metadata": {},
   "source": [
    "It seems that the conditions of clustering are a bit loose as the vast majority (531 out of 538) belong to the same cluster:"
   ]
  },
  {
   "cell_type": "code",
   "execution_count": 50,
   "id": "96b5436a-459f-406f-a81f-04116ec51162",
   "metadata": {},
   "outputs": [
    {
     "data": {
      "text/plain": [
       "531"
      ]
     },
     "execution_count": 50,
     "metadata": {},
     "output_type": "execute_result"
    }
   ],
   "source": [
    "len(unique_taxis_per_cluster[0])"
   ]
  },
  {
   "cell_type": "code",
   "execution_count": null,
   "id": "d2f337f9",
   "metadata": {},
   "outputs": [],
   "source": []
  }
 ],
 "metadata": {
  "kernelspec": {
   "display_name": "Python 3",
   "language": "python",
   "name": "python3"
  },
  "language_info": {
   "codemirror_mode": {
    "name": "ipython",
    "version": 3
   },
   "file_extension": ".py",
   "mimetype": "text/x-python",
   "name": "python",
   "nbconvert_exporter": "python",
   "pygments_lexer": "ipython3",
   "version": "3.8.8"
  }
 },
 "nbformat": 4,
 "nbformat_minor": 5
}
